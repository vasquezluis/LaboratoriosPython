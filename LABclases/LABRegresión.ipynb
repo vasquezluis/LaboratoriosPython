{
 "cells": [
  {
   "cell_type": "code",
   "execution_count": 1,
   "id": "489af7ed",
   "metadata": {},
   "outputs": [],
   "source": [
    "# librerias\n",
    "import pandas as pd\n",
    "import numpy as np"
   ]
  },
  {
   "cell_type": "code",
   "execution_count": 2,
   "id": "2e665bf2",
   "metadata": {},
   "outputs": [
    {
     "data": {
      "text/html": [
       "<div>\n",
       "<style scoped>\n",
       "    .dataframe tbody tr th:only-of-type {\n",
       "        vertical-align: middle;\n",
       "    }\n",
       "\n",
       "    .dataframe tbody tr th {\n",
       "        vertical-align: top;\n",
       "    }\n",
       "\n",
       "    .dataframe thead th {\n",
       "        text-align: right;\n",
       "    }\n",
       "</style>\n",
       "<table border=\"1\" class=\"dataframe\">\n",
       "  <thead>\n",
       "    <tr style=\"text-align: right;\">\n",
       "      <th></th>\n",
       "      <th>MesGarantia</th>\n",
       "      <th>procesadori3</th>\n",
       "      <th>procesadori5</th>\n",
       "      <th>procesadori7</th>\n",
       "      <th>procesadori9</th>\n",
       "      <th>garantiascobradas</th>\n",
       "    </tr>\n",
       "  </thead>\n",
       "  <tbody>\n",
       "    <tr>\n",
       "      <th>0</th>\n",
       "      <td>Enero</td>\n",
       "      <td>5</td>\n",
       "      <td>6</td>\n",
       "      <td>7</td>\n",
       "      <td>2</td>\n",
       "      <td>3</td>\n",
       "    </tr>\n",
       "    <tr>\n",
       "      <th>1</th>\n",
       "      <td>Febrero</td>\n",
       "      <td>10</td>\n",
       "      <td>5</td>\n",
       "      <td>4</td>\n",
       "      <td>1</td>\n",
       "      <td>5</td>\n",
       "    </tr>\n",
       "    <tr>\n",
       "      <th>2</th>\n",
       "      <td>Marzo</td>\n",
       "      <td>4</td>\n",
       "      <td>8</td>\n",
       "      <td>8</td>\n",
       "      <td>0</td>\n",
       "      <td>4</td>\n",
       "    </tr>\n",
       "    <tr>\n",
       "      <th>3</th>\n",
       "      <td>Abril</td>\n",
       "      <td>5</td>\n",
       "      <td>10</td>\n",
       "      <td>4</td>\n",
       "      <td>1</td>\n",
       "      <td>6</td>\n",
       "    </tr>\n",
       "    <tr>\n",
       "      <th>4</th>\n",
       "      <td>Mayo</td>\n",
       "      <td>3</td>\n",
       "      <td>3</td>\n",
       "      <td>10</td>\n",
       "      <td>4</td>\n",
       "      <td>2</td>\n",
       "    </tr>\n",
       "    <tr>\n",
       "      <th>5</th>\n",
       "      <td>Junio</td>\n",
       "      <td>5</td>\n",
       "      <td>5</td>\n",
       "      <td>5</td>\n",
       "      <td>5</td>\n",
       "      <td>7</td>\n",
       "    </tr>\n",
       "    <tr>\n",
       "      <th>6</th>\n",
       "      <td>Julio</td>\n",
       "      <td>5</td>\n",
       "      <td>5</td>\n",
       "      <td>5</td>\n",
       "      <td>5</td>\n",
       "      <td>7</td>\n",
       "    </tr>\n",
       "    <tr>\n",
       "      <th>7</th>\n",
       "      <td>Agosto</td>\n",
       "      <td>6</td>\n",
       "      <td>8</td>\n",
       "      <td>5</td>\n",
       "      <td>1</td>\n",
       "      <td>5</td>\n",
       "    </tr>\n",
       "    <tr>\n",
       "      <th>8</th>\n",
       "      <td>Septiembre</td>\n",
       "      <td>2</td>\n",
       "      <td>9</td>\n",
       "      <td>9</td>\n",
       "      <td>0</td>\n",
       "      <td>3</td>\n",
       "    </tr>\n",
       "    <tr>\n",
       "      <th>9</th>\n",
       "      <td>Octubre</td>\n",
       "      <td>0</td>\n",
       "      <td>9</td>\n",
       "      <td>9</td>\n",
       "      <td>2</td>\n",
       "      <td>3</td>\n",
       "    </tr>\n",
       "    <tr>\n",
       "      <th>10</th>\n",
       "      <td>Noviembre</td>\n",
       "      <td>5</td>\n",
       "      <td>6</td>\n",
       "      <td>7</td>\n",
       "      <td>2</td>\n",
       "      <td>0</td>\n",
       "    </tr>\n",
       "    <tr>\n",
       "      <th>11</th>\n",
       "      <td>Diciembre</td>\n",
       "      <td>5</td>\n",
       "      <td>5</td>\n",
       "      <td>5</td>\n",
       "      <td>5</td>\n",
       "      <td>5</td>\n",
       "    </tr>\n",
       "  </tbody>\n",
       "</table>\n",
       "</div>"
      ],
      "text/plain": [
       "   MesGarantia  procesadori3  procesadori5  procesadori7  procesadori9  \\\n",
       "0        Enero             5             6             7             2   \n",
       "1      Febrero            10             5             4             1   \n",
       "2        Marzo             4             8             8             0   \n",
       "3        Abril             5            10             4             1   \n",
       "4         Mayo             3             3            10             4   \n",
       "5        Junio             5             5             5             5   \n",
       "6        Julio             5             5             5             5   \n",
       "7       Agosto             6             8             5             1   \n",
       "8   Septiembre             2             9             9             0   \n",
       "9      Octubre             0             9             9             2   \n",
       "10   Noviembre             5             6             7             2   \n",
       "11   Diciembre             5             5             5             5   \n",
       "\n",
       "    garantiascobradas  \n",
       "0                   3  \n",
       "1                   5  \n",
       "2                   4  \n",
       "3                   6  \n",
       "4                   2  \n",
       "5                   7  \n",
       "6                   7  \n",
       "7                   5  \n",
       "8                   3  \n",
       "9                   3  \n",
       "10                  0  \n",
       "11                  5  "
      ]
     },
     "execution_count": 2,
     "metadata": {},
     "output_type": "execute_result"
    }
   ],
   "source": [
    "# archivo\n",
    "path = \"/home/luii/Documents/Modelacionysimulacion\"\n",
    "file = \"LABClases/procesadores_garantia.csv\"\n",
    "data = pd.read_csv(path + \"/\" + file)\n",
    "data"
   ]
  },
  {
   "cell_type": "markdown",
   "id": "a55492ff",
   "metadata": {},
   "source": [
    "## 1) Validar sí los procesadores son los que tienen una influencia en los cobros de garantía efectuados durante el 2019 desde enero a diciembre."
   ]
  },
  {
   "cell_type": "code",
   "execution_count": 22,
   "id": "be081e4f",
   "metadata": {},
   "outputs": [],
   "source": [
    "# promedio de ventas\n",
    "promedio_gara = np.mean(data[\"garantiascobradas\"])"
   ]
  },
  {
   "cell_type": "code",
   "execution_count": 19,
   "id": "63c09600",
   "metadata": {},
   "outputs": [],
   "source": [
    "import statsmodels.formula.api as smf"
   ]
  },
  {
   "cell_type": "code",
   "execution_count": 10,
   "id": "7bdcc013",
   "metadata": {},
   "outputs": [],
   "source": [
    "ml_multiple = smf.ols(formula=\"garantiascobradas~procesadori3+procesadori5+procesadori7+procesadori9\", data=data).fit()"
   ]
  },
  {
   "cell_type": "code",
   "execution_count": 11,
   "id": "7f70e2a7",
   "metadata": {},
   "outputs": [
    {
     "data": {
      "text/plain": [
       "Intercept       0.058491\n",
       "procesadori3    0.225762\n",
       "procesadori5    0.591346\n",
       "procesadori7   -0.394219\n",
       "procesadori9    0.746926\n",
       "dtype: float64"
      ]
     },
     "execution_count": 11,
     "metadata": {},
     "output_type": "execute_result"
    }
   ],
   "source": [
    "# parametros\n",
    "ml_multiple.params"
   ]
  },
  {
   "cell_type": "code",
   "execution_count": 12,
   "id": "82a93b7c",
   "metadata": {},
   "outputs": [
    {
     "data": {
      "text/plain": [
       "Intercept       0.000092\n",
       "procesadori3    0.208359\n",
       "procesadori5    0.013604\n",
       "procesadori7    0.066296\n",
       "procesadori9    0.015081\n",
       "dtype: float64"
      ]
     },
     "execution_count": 12,
     "metadata": {},
     "output_type": "execute_result"
    }
   ],
   "source": [
    "# valores\n",
    "ml_multiple.pvalues"
   ]
  },
  {
   "cell_type": "code",
   "execution_count": 13,
   "id": "2b525f6c",
   "metadata": {},
   "outputs": [
    {
     "name": "stdout",
     "output_type": "stream",
     "text": [
      "El modelo tiene una presicion de: 45.73%\n"
     ]
    }
   ],
   "source": [
    "# validacion del modelo\n",
    "validaMulti = ml_multiple.rsquared_adj\n",
    "print(\"El modelo tiene una presicion de: \" + str(round(validaMulti*100,2)) + \"%\")"
   ]
  },
  {
   "cell_type": "code",
   "execution_count": 15,
   "id": "96dc20d2",
   "metadata": {},
   "outputs": [],
   "source": [
    "# prediccion - plotear o validacion matematica\n",
    "prediccionesmultiple = ml_multiple.predict(data[[\"procesadori3\", \"procesadori5\", \"procesadori7\", \"procesadori9\"]])"
   ]
  },
  {
   "cell_type": "code",
   "execution_count": 16,
   "id": "e22db8b8",
   "metadata": {},
   "outputs": [
    {
     "data": {
      "text/plain": [
       "0     3.469698\n",
       "1     4.442893\n",
       "2     2.538555\n",
       "3     6.270809\n",
       "4     1.555334\n",
       "5     5.907569\n",
       "6     5.907569\n",
       "7     4.919662\n",
       "8     2.284158\n",
       "9     3.326486\n",
       "10    3.469698\n",
       "11    5.907569\n",
       "dtype: float64"
      ]
     },
     "execution_count": 16,
     "metadata": {},
     "output_type": "execute_result"
    }
   ],
   "source": [
    "prediccionesmultiple"
   ]
  },
  {
   "cell_type": "code",
   "execution_count": 17,
   "id": "7e3e48b2",
   "metadata": {},
   "outputs": [],
   "source": [
    "# validar la simulacion multiple\n",
    "sumaDeCuadradosDiferenciaM = sum((data[\"garantiascobradas\"]-prediccionesmultiple) ** 2)"
   ]
  },
  {
   "cell_type": "code",
   "execution_count": 24,
   "id": "f96374c0",
   "metadata": {},
   "outputs": [],
   "source": [
    "ErrorestandarresidualN = np.sqrt(sumaDeCuadradosDiferenciaM / (len(data) - 5 - 1))"
   ]
  },
  {
   "cell_type": "code",
   "execution_count": 26,
   "id": "bae93bb7",
   "metadata": {},
   "outputs": [
    {
     "name": "stdout",
     "output_type": "stream",
     "text": [
      "El modelo tiene un error de: 42.5%\n"
     ]
    }
   ],
   "source": [
    "errorsimulacionM = ErrorestandarresidualN / promedio_gara\n",
    "print(\"El modelo tiene un error de: \" + str(round((errorsimulacionM*100), 2)) + \"%\")"
   ]
  },
  {
   "cell_type": "markdown",
   "id": "0a731226",
   "metadata": {},
   "source": [
    "## 2) Verificar cuál es el procesador que mayor influencia tienen en los cobros de garantías. "
   ]
  },
  {
   "cell_type": "code",
   "execution_count": 42,
   "id": "3a02e067",
   "metadata": {},
   "outputs": [],
   "source": [
    "# libreria de impresion\n",
    "import matplotlib.pyplot as plt"
   ]
  },
  {
   "cell_type": "markdown",
   "id": "a440c468",
   "metadata": {},
   "source": [
    "### Procesador i3"
   ]
  },
  {
   "cell_type": "code",
   "execution_count": 32,
   "id": "26dfe20b",
   "metadata": {},
   "outputs": [
    {
     "data": {
      "text/plain": [
       "Intercept       0.060994\n",
       "procesadori3    0.273710\n",
       "dtype: float64"
      ]
     },
     "execution_count": 32,
     "metadata": {},
     "output_type": "execute_result"
    }
   ],
   "source": [
    "# garantiascobradas y procesador i3\n",
    "ml_i3 = smf.ols(formula = \"garantiascobradas~procesadori3\", data=data).fit()\n",
    "# parametros\n",
    "ml_i3.params\n",
    "# valores\n",
    "ml_i3.pvalues"
   ]
  },
  {
   "cell_type": "code",
   "execution_count": 34,
   "id": "491f12cb",
   "metadata": {},
   "outputs": [
    {
     "name": "stdout",
     "output_type": "stream",
     "text": [
      "El modelo tiene una presicion de: 3.01%\n"
     ]
    }
   ],
   "source": [
    "# validacion del modelo\n",
    "valida_i3 = ml_i3.rsquared_adj\n",
    "print(\"El modelo tiene una presicion de: \" + str(round(valida_i3*100,2)) + \"%\")"
   ]
  },
  {
   "cell_type": "code",
   "execution_count": 35,
   "id": "34b97fc3",
   "metadata": {},
   "outputs": [],
   "source": [
    "# validacion matematica\n",
    "prediccion_i3 = ml_i3.predict(pd.DataFrame(data[\"procesadori3\"]))"
   ]
  },
  {
   "cell_type": "code",
   "execution_count": 38,
   "id": "c689ed8a",
   "metadata": {},
   "outputs": [
    {
     "data": {
      "text/plain": [
       "[<matplotlib.lines.Line2D at 0x7f09941ca910>]"
      ]
     },
     "execution_count": 38,
     "metadata": {},
     "output_type": "execute_result"
    },
    {
     "data": {
      "image/png": "[encoded data removed]",
      "text/plain": [
       "<Figure size 432x288 with 1 Axes>"
      ]
     },
     "metadata": {
      "needs_background": "light"
     },
     "output_type": "display_data"
    }
   ],
   "source": [
    "# dispersion\n",
    "%matplotlib inline\n",
    "data.plot(kind=\"scatter\", x=\"garantiascobradas\", y=\"procesadori3\")\n",
    "plt.plot(pd.DataFrame(data[\"procesadori3\"]), prediccion_i3, c=\"red\", linewidth=3)"
   ]
  },
  {
   "cell_type": "markdown",
   "id": "b79e30af",
   "metadata": {},
   "source": [
    "### Procesador i5"
   ]
  },
  {
   "cell_type": "code",
   "execution_count": 39,
   "id": "a51feefa",
   "metadata": {},
   "outputs": [
    {
     "data": {
      "text/plain": [
       "Intercept       0.083340\n",
       "procesadori5    0.958388\n",
       "dtype: float64"
      ]
     },
     "execution_count": 39,
     "metadata": {},
     "output_type": "execute_result"
    }
   ],
   "source": [
    "# garantiascobradas y procesador i5\n",
    "ml_i5 = smf.ols(formula = \"garantiascobradas~procesadori5\", data=data).fit()\n",
    "# parametros\n",
    "ml_i5.params\n",
    "# valores\n",
    "ml_i5.pvalues"
   ]
  },
  {
   "cell_type": "code",
   "execution_count": 54,
   "id": "aa886f5f",
   "metadata": {},
   "outputs": [
    {
     "name": "stdout",
     "output_type": "stream",
     "text": [
      "El modelo tiene una presicion de: -9.97\n"
     ]
    }
   ],
   "source": [
    "# validacion del modelo\n",
    "valida_i5 = ml_i5.rsquared_adj\n",
    "print(\"El modelo tiene una presicion de: \" + str(round(valida_i5*100,2)) + \"%\")"
   ]
  },
  {
   "cell_type": "code",
   "execution_count": 43,
   "id": "9ddaf3cd",
   "metadata": {},
   "outputs": [],
   "source": [
    "# validacion matematica\n",
    "prediccion_i5 = ml_i5.predict(pd.DataFrame(data[\"procesadori5\"]))"
   ]
  },
  {
   "cell_type": "code",
   "execution_count": 45,
   "id": "62934a15",
   "metadata": {},
   "outputs": [
    {
     "data": {
      "text/plain": [
       "[<matplotlib.lines.Line2D at 0x7f0994099cd0>]"
      ]
     },
     "execution_count": 45,
     "metadata": {},
     "output_type": "execute_result"
    },
    {
     "data": {
      "image/png": "[encoded data removed]",
      "text/plain": [
       "<Figure size 432x288 with 1 Axes>"
      ]
     },
     "metadata": {
      "needs_background": "light"
     },
     "output_type": "display_data"
    }
   ],
   "source": [
    "# dispersion\n",
    "%matplotlib inline\n",
    "data.plot(kind=\"scatter\", x=\"garantiascobradas\", y=\"procesadori5\")\n",
    "plt.plot(pd.DataFrame(data[\"procesadori5\"]), prediccion_i5, c=\"red\", linewidth=3)"
   ]
  },
  {
   "cell_type": "markdown",
   "id": "9c9e284e",
   "metadata": {},
   "source": [
    "### Procesador i7"
   ]
  },
  {
   "cell_type": "code",
   "execution_count": 46,
   "id": "168b5281",
   "metadata": {},
   "outputs": [
    {
     "data": {
      "text/plain": [
       "Intercept       0.000185\n",
       "procesadori7    0.010683\n",
       "dtype: float64"
      ]
     },
     "execution_count": 46,
     "metadata": {},
     "output_type": "execute_result"
    }
   ],
   "source": [
    "# garantiascobradas y procesador i7\n",
    "ml_i7 = smf.ols(formula = \"garantiascobradas~procesadori7\", data=data).fit()\n",
    "# parametros\n",
    "ml_i7.params\n",
    "# valores\n",
    "ml_i7.pvalues"
   ]
  },
  {
   "cell_type": "code",
   "execution_count": 47,
   "id": "55527bcc",
   "metadata": {},
   "outputs": [
    {
     "name": "stdout",
     "output_type": "stream",
     "text": [
      "El modelo tiene una presicion de: 44.44%\n"
     ]
    }
   ],
   "source": [
    "# validacion del modelo\n",
    "valida_i7 = ml_i7.rsquared_adj\n",
    "print(\"El modelo tiene una presicion de: \" + str(round(valida_i7*100,2)) + \"%\")"
   ]
  },
  {
   "cell_type": "code",
   "execution_count": 48,
   "id": "4c4a9d33",
   "metadata": {},
   "outputs": [],
   "source": [
    "# validacion matematica\n",
    "prediccion_i7 = ml_i7.predict(pd.DataFrame(data[\"procesadori7\"]))"
   ]
  },
  {
   "cell_type": "code",
   "execution_count": 49,
   "id": "4082c43e",
   "metadata": {},
   "outputs": [
    {
     "data": {
      "text/plain": [
       "[<matplotlib.lines.Line2D at 0x7f0994086730>]"
      ]
     },
     "execution_count": 49,
     "metadata": {},
     "output_type": "execute_result"
    },
    {
     "data": {
      "image/png": "[encoded data removed]",
      "text/plain": [
       "<Figure size 432x288 with 1 Axes>"
      ]
     },
     "metadata": {
      "needs_background": "light"
     },
     "output_type": "display_data"
    }
   ],
   "source": [
    "# dispersion\n",
    "%matplotlib inline\n",
    "data.plot(kind=\"scatter\", x=\"garantiascobradas\", y=\"procesadori7\")\n",
    "plt.plot(pd.DataFrame(data[\"procesadori7\"]), prediccion_i7, c=\"red\", linewidth=3)"
   ]
  },
  {
   "cell_type": "markdown",
   "id": "efa99736",
   "metadata": {},
   "source": [
    "### Procesador i9"
   ]
  },
  {
   "cell_type": "code",
   "execution_count": 50,
   "id": "b618fe4b",
   "metadata": {},
   "outputs": [
    {
     "data": {
      "text/plain": [
       "Intercept       0.005961\n",
       "procesadori9    0.301786\n",
       "dtype: float64"
      ]
     },
     "execution_count": 50,
     "metadata": {},
     "output_type": "execute_result"
    }
   ],
   "source": [
    "# garantiascobradas y procesador i9\n",
    "ml_i9 = smf.ols(formula = \"garantiascobradas~procesadori9\", data=data).fit()\n",
    "# parametros\n",
    "ml_i9.params\n",
    "# valores\n",
    "ml_i9.pvalues"
   ]
  },
  {
   "cell_type": "code",
   "execution_count": 51,
   "id": "00474a74",
   "metadata": {},
   "outputs": [
    {
     "name": "stdout",
     "output_type": "stream",
     "text": [
      "El modelo tiene una presicion de: 1.66%\n"
     ]
    }
   ],
   "source": [
    "# validacion del modelo\n",
    "valida_i9 = ml_i9.rsquared_adj\n",
    "print(\"El modelo tiene una presicion de: \" + str(round(valida_i9*100,2)) + \"%\")"
   ]
  },
  {
   "cell_type": "code",
   "execution_count": 52,
   "id": "356d57e7",
   "metadata": {},
   "outputs": [],
   "source": [
    "# validacion matematica\n",
    "prediccion_i9 = ml_i9.predict(pd.DataFrame(data[\"procesadori9\"]))"
   ]
  },
  {
   "cell_type": "code",
   "execution_count": 53,
   "id": "71930ae1",
   "metadata": {},
   "outputs": [
    {
     "data": {
      "text/plain": [
       "[<matplotlib.lines.Line2D at 0x7f0993ff20d0>]"
      ]
     },
     "execution_count": 53,
     "metadata": {},
     "output_type": "execute_result"
    },
    {
     "data": {
      "image/png": "[encoded data removed]",
      "text/plain": [
       "<Figure size 432x288 with 1 Axes>"
      ]
     },
     "metadata": {
      "needs_background": "light"
     },
     "output_type": "display_data"
    }
   ],
   "source": [
    "# dispersion\n",
    "%matplotlib inline\n",
    "data.plot(kind=\"scatter\", x=\"garantiascobradas\", y=\"procesadori9\")\n",
    "plt.plot(pd.DataFrame(data[\"procesadori9\"]), prediccion_i9, c=\"red\", linewidth=3)"
   ]
  },
  {
   "cell_type": "markdown",
   "id": "126f2659",
   "metadata": {},
   "source": [
    "## 3) Una pequeña presentación de resultados, con sus conclusiones  al respecto de estos, sus recomendaciones  y una gráfica de la influencia de los procesadores en los cobros de garantía con un histograma que será presentado después al inversionista de la tienda."
   ]
  },
  {
   "cell_type": "markdown",
   "id": "9d9cc960",
   "metadata": {},
   "source": [
    "### Conclusiones y recomendaciones"
   ]
  },
  {
   "cell_type": "code",
   "execution_count": 69,
   "id": "66e34a29",
   "metadata": {},
   "outputs": [],
   "source": [
    "# Conclusiones\n",
    "\n",
    "# parte 1\n",
    "#La influencia observada es de un 45.73 % por lo que podemos observar que las \n",
    "#garantías no tienen una relevancia directa con relación a la garantía de los productos \n",
    "\n",
    "\n",
    "# parte 2\n",
    "\n",
    "# La influencia del procesador i3 con las garantias cobradas es del 3% por lo que se puede decir que no influye\n",
    "# procesador con el cobro\n",
    "\n",
    "# El procesador i5 tiene una influencia demasidado pequeña en el cobro de la garantia, por lo que tampoco\n",
    "# es tomado como algo relevante, no influye en nada\n",
    "\n",
    "# El procesador i7 tiene una influencia del 44%, por lo que tiene una alta probabilidad de tener influencia\n",
    "# con el cobro de la garantia, puede ser por la incompatibilidad del procesador con los demas componentes\n",
    "\n",
    "# El procesador i9 tiene una influencia del 1.66% por lo que tampoco es influyente en el cobro\n",
    "# de la garantia\n",
    "\n",
    "\n",
    "# recomendaciones\n",
    "# Hay que echarle un ojo a los procesadores i7 porque son los que mas influencia tienes\n",
    "# Hay que revisar los demás componentes de las computadoras porque es más probable que sean esos componentes\n",
    "# los del problema en general"
   ]
  },
  {
   "cell_type": "code",
   "execution_count": 71,
   "id": "0a024413",
   "metadata": {},
   "outputs": [
    {
     "data": {
      "text/plain": [
       "(array([1., 0., 0., 0., 2., 0., 0., 0., 0., 0., 0., 0., 0., 0., 0., 0., 0.,\n",
       "        0., 0., 1.]),\n",
       " array([-9.97  , -7.2495, -4.529 , -1.8085,  0.912 ,  3.6325,  6.353 ,\n",
       "         9.0735, 11.794 , 14.5145, 17.235 , 19.9555, 22.676 , 25.3965,\n",
       "        28.117 , 30.8375, 33.558 , 36.2785, 38.999 , 41.7195, 44.44  ]),\n",
       " <BarContainer object of 20 artists>)"
      ]
     },
     "execution_count": 71,
     "metadata": {},
     "output_type": "execute_result"
    },
    {
     "data": {
      "image/png": "[encoded data removed]",
      "text/plain": [
       "<Figure size 432x288 with 2 Axes>"
      ]
     },
     "metadata": {
      "needs_background": "light"
     },
     "output_type": "display_data"
    }
   ],
   "source": [
    "\n",
    "# creacion de lista con cada influencias\n",
    "x_influ = []\n",
    "x_influ.append(round(valida_i3*100,2))\n",
    "x_influ.append(round(valida_i5*100,2))\n",
    "x_influ.append(round(valida_i7*100,2))\n",
    "x_influ.append(round(valida_i9*100,2))\n",
    "\n",
    "n_bins=20\n",
    "\n",
    "# histograma de precesadores y cobro de garantias\n",
    "fig, axs = plt.subplots(1, 2, sharey=True, tight_layout=True)\n",
    "\n",
    "# We can set the number of bins with the `bins` kwarg\n",
    "axs[0].hist(data[\"garantiascobradas\"], bins=n_bins)\n",
    "axs[1].hist(x_influ, bins=n_bins)"
   ]
  },
  {
   "cell_type": "code",
   "execution_count": null,
   "id": "1eff9802",
   "metadata": {},
   "outputs": [],
   "source": []
  }
 ],
 "metadata": {
  "kernelspec": {
   "display_name": "Python 3",
   "language": "python",
   "name": "python3"
  },
  "language_info": {
   "codemirror_mode": {
    "name": "ipython",
    "version": 3
   },
   "file_extension": ".py",
   "mimetype": "text/x-python",
   "name": "python",
   "nbconvert_exporter": "python",
   "pygments_lexer": "ipython3",
   "version": "3.8.8"
  }
 },
 "nbformat": 4,
 "nbformat_minor": 5
}
