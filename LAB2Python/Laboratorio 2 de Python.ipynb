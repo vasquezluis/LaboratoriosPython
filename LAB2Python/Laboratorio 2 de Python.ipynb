{
 "cells": [
  {
   "cell_type": "code",
   "execution_count": 127,
   "id": "0cc81bc2",
   "metadata": {},
   "outputs": [],
   "source": [
    "# importar las librerias necesarias\n",
    "import pandas as pd\n",
    "import matplotlib.pyplot as plt\n",
    "# usar la libreria collections para encontrar el valor mas alto\n",
    "from collections import Counter"
   ]
  },
  {
   "cell_type": "code",
   "execution_count": 131,
   "id": "de7ab807",
   "metadata": {
    "collapsed": true
   },
   "outputs": [
    {
     "data": {
      "text/html": [
       "<div>\n",
       "<style scoped>\n",
       "    .dataframe tbody tr th:only-of-type {\n",
       "        vertical-align: middle;\n",
       "    }\n",
       "\n",
       "    .dataframe tbody tr th {\n",
       "        vertical-align: top;\n",
       "    }\n",
       "\n",
       "    .dataframe thead th {\n",
       "        text-align: right;\n",
       "    }\n",
       "</style>\n",
       "<table border=\"1\" class=\"dataframe\">\n",
       "  <thead>\n",
       "    <tr style=\"text-align: right;\">\n",
       "      <th></th>\n",
       "      <th>meses</th>\n",
       "      <th>tran_luis</th>\n",
       "      <th>comi_luis</th>\n",
       "      <th>ropa_luis</th>\n",
       "      <th>ocio_luis</th>\n",
       "      <th>tran_benj</th>\n",
       "      <th>comi_benj</th>\n",
       "      <th>ropa_benj</th>\n",
       "      <th>ocio_benj</th>\n",
       "    </tr>\n",
       "  </thead>\n",
       "  <tbody>\n",
       "    <tr>\n",
       "      <th>0</th>\n",
       "      <td>enero</td>\n",
       "      <td>50</td>\n",
       "      <td>60</td>\n",
       "      <td>100</td>\n",
       "      <td>60</td>\n",
       "      <td>50</td>\n",
       "      <td>20</td>\n",
       "      <td>10</td>\n",
       "      <td>80</td>\n",
       "    </tr>\n",
       "    <tr>\n",
       "      <th>1</th>\n",
       "      <td>febrero</td>\n",
       "      <td>200</td>\n",
       "      <td>60</td>\n",
       "      <td>200</td>\n",
       "      <td>30</td>\n",
       "      <td>60</td>\n",
       "      <td>30</td>\n",
       "      <td>15</td>\n",
       "      <td>150</td>\n",
       "    </tr>\n",
       "    <tr>\n",
       "      <th>2</th>\n",
       "      <td>marzo</td>\n",
       "      <td>300</td>\n",
       "      <td>60</td>\n",
       "      <td>150</td>\n",
       "      <td>50</td>\n",
       "      <td>70</td>\n",
       "      <td>20</td>\n",
       "      <td>10</td>\n",
       "      <td>120</td>\n",
       "    </tr>\n",
       "    <tr>\n",
       "      <th>3</th>\n",
       "      <td>abril</td>\n",
       "      <td>300</td>\n",
       "      <td>60</td>\n",
       "      <td>20</td>\n",
       "      <td>100</td>\n",
       "      <td>80</td>\n",
       "      <td>15</td>\n",
       "      <td>5</td>\n",
       "      <td>130</td>\n",
       "    </tr>\n",
       "    <tr>\n",
       "      <th>4</th>\n",
       "      <td>mayo</td>\n",
       "      <td>400</td>\n",
       "      <td>60</td>\n",
       "      <td>50</td>\n",
       "      <td>150</td>\n",
       "      <td>50</td>\n",
       "      <td>20</td>\n",
       "      <td>15</td>\n",
       "      <td>150</td>\n",
       "    </tr>\n",
       "  </tbody>\n",
       "</table>\n",
       "</div>"
      ],
      "text/plain": [
       "     meses  tran_luis  comi_luis  ropa_luis  ocio_luis  tran_benj  comi_benj  \\\n",
       "0    enero         50         60        100         60         50         20   \n",
       "1  febrero        200         60        200         30         60         30   \n",
       "2    marzo        300         60        150         50         70         20   \n",
       "3    abril        300         60         20        100         80         15   \n",
       "4     mayo        400         60         50        150         50         20   \n",
       "\n",
       "   ropa_benj  ocio_benj  \n",
       "0         10         80  \n",
       "1         15        150  \n",
       "2         10        120  \n",
       "3          5        130  \n",
       "4         15        150  "
      ]
     },
     "execution_count": 131,
     "metadata": {},
     "output_type": "execute_result"
    }
   ],
   "source": [
    "# uso de base de datos\n",
    "path = \"/home/luii/Documents/Modelacionysimulacion\"\n",
    "file = \"LAB2Python/gastos2021.csv\"\n",
    "data = pd.read_csv(path + \"/\" + file)\n",
    "data"
   ]
  },
  {
   "cell_type": "markdown",
   "id": "ad313d6e",
   "metadata": {},
   "source": [
    "## Función suma de tipo de gastos"
   ]
  },
  {
   "cell_type": "code",
   "execution_count": 96,
   "id": "21922cc9",
   "metadata": {},
   "outputs": [],
   "source": [
    "# funcion para sumas gastos en un tipo de gasto (suma de columnas)\n",
    "\n",
    "def suma_gas(tipo):\n",
    "    suma = 0\n",
    "    for i in tipo:\n",
    "        suma += i\n",
    "    return suma"
   ]
  },
  {
   "cell_type": "markdown",
   "id": "f8ab14b9",
   "metadata": {},
   "source": [
    "# N1. Tabla gastos de cada miembro"
   ]
  },
  {
   "cell_type": "code",
   "execution_count": 84,
   "id": "76e755ca",
   "metadata": {},
   "outputs": [
    {
     "data": {
      "text/html": [
       "<div>\n",
       "<style scoped>\n",
       "    .dataframe tbody tr th:only-of-type {\n",
       "        vertical-align: middle;\n",
       "    }\n",
       "\n",
       "    .dataframe tbody tr th {\n",
       "        vertical-align: top;\n",
       "    }\n",
       "\n",
       "    .dataframe thead th {\n",
       "        text-align: right;\n",
       "    }\n",
       "</style>\n",
       "<table border=\"1\" class=\"dataframe\">\n",
       "  <thead>\n",
       "    <tr style=\"text-align: right;\">\n",
       "      <th></th>\n",
       "      <th>meses</th>\n",
       "      <th>tran_luis</th>\n",
       "      <th>comi_luis</th>\n",
       "      <th>ropa_luis</th>\n",
       "      <th>ocio_luis</th>\n",
       "    </tr>\n",
       "  </thead>\n",
       "  <tbody>\n",
       "    <tr>\n",
       "      <th>0</th>\n",
       "      <td>enero</td>\n",
       "      <td>50</td>\n",
       "      <td>60</td>\n",
       "      <td>100</td>\n",
       "      <td>60</td>\n",
       "    </tr>\n",
       "    <tr>\n",
       "      <th>1</th>\n",
       "      <td>febrero</td>\n",
       "      <td>200</td>\n",
       "      <td>60</td>\n",
       "      <td>200</td>\n",
       "      <td>30</td>\n",
       "    </tr>\n",
       "    <tr>\n",
       "      <th>2</th>\n",
       "      <td>marzo</td>\n",
       "      <td>300</td>\n",
       "      <td>60</td>\n",
       "      <td>150</td>\n",
       "      <td>50</td>\n",
       "    </tr>\n",
       "    <tr>\n",
       "      <th>3</th>\n",
       "      <td>abril</td>\n",
       "      <td>300</td>\n",
       "      <td>60</td>\n",
       "      <td>20</td>\n",
       "      <td>100</td>\n",
       "    </tr>\n",
       "    <tr>\n",
       "      <th>4</th>\n",
       "      <td>mayo</td>\n",
       "      <td>400</td>\n",
       "      <td>60</td>\n",
       "      <td>50</td>\n",
       "      <td>150</td>\n",
       "    </tr>\n",
       "  </tbody>\n",
       "</table>\n",
       "</div>"
      ],
      "text/plain": [
       "     meses  tran_luis  comi_luis  ropa_luis  ocio_luis\n",
       "0    enero         50         60        100         60\n",
       "1  febrero        200         60        200         30\n",
       "2    marzo        300         60        150         50\n",
       "3    abril        300         60         20        100\n",
       "4     mayo        400         60         50        150"
      ]
     },
     "execution_count": 84,
     "metadata": {},
     "output_type": "execute_result"
    }
   ],
   "source": [
    "# Tabla gastos Luis\n",
    "\n",
    "subgastos = data.iloc[:, 0:1]\n",
    "gastosluis = data.loc[: , [\"tran_luis\", \"comi_luis\", \"ropa_luis\", \"ocio_luis\"]]\n",
    "datos1 = pd.concat([subgastos, gastosluis], axis=1)\n",
    "datos1"
   ]
  },
  {
   "cell_type": "code",
   "execution_count": 102,
   "id": "0c94f320",
   "metadata": {},
   "outputs": [
    {
     "data": {
      "text/html": [
       "<div>\n",
       "<style scoped>\n",
       "    .dataframe tbody tr th:only-of-type {\n",
       "        vertical-align: middle;\n",
       "    }\n",
       "\n",
       "    .dataframe tbody tr th {\n",
       "        vertical-align: top;\n",
       "    }\n",
       "\n",
       "    .dataframe thead th {\n",
       "        text-align: right;\n",
       "    }\n",
       "</style>\n",
       "<table border=\"1\" class=\"dataframe\">\n",
       "  <thead>\n",
       "    <tr style=\"text-align: right;\">\n",
       "      <th></th>\n",
       "      <th>meses</th>\n",
       "      <th>tran_benj</th>\n",
       "      <th>comi_benj</th>\n",
       "      <th>ropa_benj</th>\n",
       "      <th>ocio_benj</th>\n",
       "    </tr>\n",
       "  </thead>\n",
       "  <tbody>\n",
       "    <tr>\n",
       "      <th>0</th>\n",
       "      <td>enero</td>\n",
       "      <td>50</td>\n",
       "      <td>20</td>\n",
       "      <td>10</td>\n",
       "      <td>80</td>\n",
       "    </tr>\n",
       "    <tr>\n",
       "      <th>1</th>\n",
       "      <td>febrero</td>\n",
       "      <td>60</td>\n",
       "      <td>30</td>\n",
       "      <td>15</td>\n",
       "      <td>150</td>\n",
       "    </tr>\n",
       "    <tr>\n",
       "      <th>2</th>\n",
       "      <td>marzo</td>\n",
       "      <td>70</td>\n",
       "      <td>20</td>\n",
       "      <td>10</td>\n",
       "      <td>120</td>\n",
       "    </tr>\n",
       "    <tr>\n",
       "      <th>3</th>\n",
       "      <td>abril</td>\n",
       "      <td>80</td>\n",
       "      <td>15</td>\n",
       "      <td>5</td>\n",
       "      <td>130</td>\n",
       "    </tr>\n",
       "    <tr>\n",
       "      <th>4</th>\n",
       "      <td>mayo</td>\n",
       "      <td>50</td>\n",
       "      <td>20</td>\n",
       "      <td>15</td>\n",
       "      <td>150</td>\n",
       "    </tr>\n",
       "  </tbody>\n",
       "</table>\n",
       "</div>"
      ],
      "text/plain": [
       "     meses  tran_benj  comi_benj  ropa_benj  ocio_benj\n",
       "0    enero         50         20         10         80\n",
       "1  febrero         60         30         15        150\n",
       "2    marzo         70         20         10        120\n",
       "3    abril         80         15          5        130\n",
       "4     mayo         50         20         15        150"
      ]
     },
     "execution_count": 102,
     "metadata": {},
     "output_type": "execute_result"
    }
   ],
   "source": [
    "# Tabla Gastos Benjamyn\n",
    "\n",
    "subgastos = data.iloc[:, 0:1]\n",
    "gastosbenj = data.loc[: , [\"tran_benj\", \"comi_benj\", \"ropa_benj\", \"ocio_benj\"]]\n",
    "datos2 = pd.concat([subgastos, gastosbenj], axis=1)\n",
    "datos2"
   ]
  },
  {
   "cell_type": "markdown",
   "id": "a5b25671",
   "metadata": {},
   "source": [
    "# N2. Tipo de gastos\n"
   ]
  },
  {
   "cell_type": "code",
   "execution_count": 92,
   "id": "d6d463cd",
   "metadata": {
    "collapsed": true
   },
   "outputs": [
    {
     "name": "stdout",
     "output_type": "stream",
     "text": [
      "tipos de gastos =  ['tran_luis', 'comi_luis', 'ropa_luis', 'ocio_luis', 'tran_benj', 'comi_benj', 'ropa_benj', 'ocio_benj']\n"
     ]
    }
   ],
   "source": [
    "# tipos de gatos\n",
    "\n",
    "categoria = data.columns.values.tolist()\n",
    "del(categoria[0])\n",
    "print(\"tipos de gastos = \", categoria)"
   ]
  },
  {
   "cell_type": "markdown",
   "id": "df74d8f2",
   "metadata": {},
   "source": [
    "## Mayores gastos"
   ]
  },
  {
   "cell_type": "code",
   "execution_count": 126,
   "id": "bcbb8fea",
   "metadata": {},
   "outputs": [
    {
     "name": "stdout",
     "output_type": "stream",
     "text": [
      "3 tipos que más gastos tiene Luis:  [('transporte', 1250), ('ropa', 520), ('ocio', 390)]\n"
     ]
    }
   ],
   "source": [
    "# mayores gastos Luis\n",
    "\n",
    "# diccionario de los datos\n",
    "tot_luis = {'transporte':suma_gas(datos1[\"tran_luis\"]), 'comida':suma_gas(datos1[\"comi_luis\"]), 'ropa':suma_gas(datos1[\"ropa_luis\"]), 'ocio':suma_gas(datos1[\"ocio_luis\"])}\n",
    "        \n",
    "k = Counter(tot_luis)\n",
    "high = k.most_common(3)\n",
    "print(\"3 tipos que más gastos tiene Luis: \", high)"
   ]
  },
  {
   "cell_type": "code",
   "execution_count": 130,
   "id": "eba2f3b4",
   "metadata": {},
   "outputs": [
    {
     "name": "stdout",
     "output_type": "stream",
     "text": [
      "3 tipos que más gastos tiene Benja:  [('ocio', 630), ('transporte', 310), ('comida', 105)]\n"
     ]
    }
   ],
   "source": [
    "# mayores gastos Benja\n",
    "\n",
    "# diccionario de los datos\n",
    "tot_benja = {'transporte':suma_gas(datos2[\"tran_benj\"]), 'comida':suma_gas(datos2[\"comi_benj\"]), 'ropa':suma_gas(datos2[\"ropa_benj\"]), 'ocio':suma_gas(datos2[\"ocio_benj\"])}\n",
    "        \n",
    "k = Counter(tot_benja)\n",
    "high = k.most_common(3)\n",
    "print(\"3 tipos que más gastos tiene Benja: \", high)"
   ]
  },
  {
   "cell_type": "markdown",
   "id": "9fce08c1",
   "metadata": {},
   "source": [
    "# N4. Gráfica de total de gastos 2021"
   ]
  },
  {
   "cell_type": "code",
   "execution_count": 134,
   "id": "2c97221d",
   "metadata": {},
   "outputs": [
    {
     "data": {
      "image/png": "[encoded data removed]",
      "text/plain": [
       "<Figure size 432x288 with 1 Axes>"
      ]
     },
     "metadata": {},
     "output_type": "display_data"
    }
   ],
   "source": [
    "# suma total de gastos Luis en el 2021\n",
    "suma_total_luis = suma_gas(datos1[\"tran_luis\"]) + suma_gas(datos1[\"comi_luis\"]) + suma_gas(datos1[\"ropa_luis\"]) + suma_gas(datos1[\"ocio_luis\"])\n",
    "# suma total de gastos Luis en el 2021\n",
    "suma_total_benja = suma_gas(datos2[\"tran_benj\"]) + suma_gas(datos2[\"comi_benj\"]) + suma_gas(datos2[\"ropa_benj\"]) + suma_gas(datos2[\"ocio_benj\"])\n",
    "\n",
    "# nombre\n",
    "nombre = ['Luis', 'Benjamyn']\n",
    "# gastos\n",
    "gastos = [suma_total_luis, suma_total_benja]\n",
    "# color\n",
    "color = ['r', 'b']\n",
    "\n",
    "# creacion del pie\n",
    "plt.pie(gastos, labels=nombre, colors=color, shadow=True, autopct=\"%1.2f%%\")\n",
    "plt.legend()\n",
    "plt.title(\"Comparativa de gastos 2021\")\n",
    "plt.show()"
   ]
  },
  {
   "cell_type": "code",
   "execution_count": null,
   "id": "2f24da53",
   "metadata": {},
   "outputs": [],
   "source": []
  }
 ],
 "metadata": {
  "kernelspec": {
   "display_name": "Python 3",
   "language": "python",
   "name": "python3"
  },
  "language_info": {
   "codemirror_mode": {
    "name": "ipython",
    "version": 3
   },
   "file_extension": ".py",
   "mimetype": "text/x-python",
   "name": "python",
   "nbconvert_exporter": "python",
   "pygments_lexer": "ipython3",
   "version": "3.8.8"
  }
 },
 "nbformat": 4,
 "nbformat_minor": 5
}
