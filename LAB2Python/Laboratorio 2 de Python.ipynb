{
 "cells": [
  {
   "cell_type": "code",
   "execution_count": 11,
   "id": "0cc81bc2",
   "metadata": {},
   "outputs": [],
   "source": [
    "# importar las librerias necesarias\n",
    "import pandas as pd\n",
    "import matplotlib.pyplot as plt\n",
    "# usar la libreria collections para encontrar el valor mas alto\n",
    "from collections import Counter"
   ]
  },
  {
   "cell_type": "code",
   "execution_count": 12,
   "id": "de7ab807",
   "metadata": {},
   "outputs": [
    {
     "data": {
      "text/html": [
       "<div>\n",
       "<style scoped>\n",
       "    .dataframe tbody tr th:only-of-type {\n",
       "        vertical-align: middle;\n",
       "    }\n",
       "\n",
       "    .dataframe tbody tr th {\n",
       "        vertical-align: top;\n",
       "    }\n",
       "\n",
       "    .dataframe thead th {\n",
       "        text-align: right;\n",
       "    }\n",
       "</style>\n",
       "<table border=\"1\" class=\"dataframe\">\n",
       "  <thead>\n",
       "    <tr style=\"text-align: right;\">\n",
       "      <th></th>\n",
       "      <th>meses</th>\n",
       "      <th>tran_luis</th>\n",
       "      <th>comi_luis</th>\n",
       "      <th>ropa_luis</th>\n",
       "      <th>ocio_luis</th>\n",
       "      <th>tran_benj</th>\n",
       "      <th>comi_benj</th>\n",
       "      <th>ropa_benj</th>\n",
       "      <th>ocio_benj</th>\n",
       "    </tr>\n",
       "  </thead>\n",
       "  <tbody>\n",
       "    <tr>\n",
       "      <th>0</th>\n",
       "      <td>enero</td>\n",
       "      <td>50</td>\n",
       "      <td>60</td>\n",
       "      <td>100</td>\n",
       "      <td>60</td>\n",
       "      <td>50</td>\n",
       "      <td>20</td>\n",
       "      <td>10</td>\n",
       "      <td>80</td>\n",
       "    </tr>\n",
       "    <tr>\n",
       "      <th>1</th>\n",
       "      <td>febrero</td>\n",
       "      <td>200</td>\n",
       "      <td>60</td>\n",
       "      <td>200</td>\n",
       "      <td>30</td>\n",
       "      <td>60</td>\n",
       "      <td>30</td>\n",
       "      <td>15</td>\n",
       "      <td>150</td>\n",
       "    </tr>\n",
       "    <tr>\n",
       "      <th>2</th>\n",
       "      <td>marzo</td>\n",
       "      <td>300</td>\n",
       "      <td>60</td>\n",
       "      <td>150</td>\n",
       "      <td>50</td>\n",
       "      <td>70</td>\n",
       "      <td>20</td>\n",
       "      <td>10</td>\n",
       "      <td>120</td>\n",
       "    </tr>\n",
       "    <tr>\n",
       "      <th>3</th>\n",
       "      <td>abril</td>\n",
       "      <td>300</td>\n",
       "      <td>60</td>\n",
       "      <td>20</td>\n",
       "      <td>100</td>\n",
       "      <td>80</td>\n",
       "      <td>15</td>\n",
       "      <td>5</td>\n",
       "      <td>130</td>\n",
       "    </tr>\n",
       "    <tr>\n",
       "      <th>4</th>\n",
       "      <td>mayo</td>\n",
       "      <td>400</td>\n",
       "      <td>60</td>\n",
       "      <td>50</td>\n",
       "      <td>150</td>\n",
       "      <td>50</td>\n",
       "      <td>20</td>\n",
       "      <td>15</td>\n",
       "      <td>150</td>\n",
       "    </tr>\n",
       "  </tbody>\n",
       "</table>\n",
       "</div>"
      ],
      "text/plain": [
       "     meses  tran_luis  comi_luis  ropa_luis  ocio_luis  tran_benj  comi_benj  \\\n",
       "0    enero         50         60        100         60         50         20   \n",
       "1  febrero        200         60        200         30         60         30   \n",
       "2    marzo        300         60        150         50         70         20   \n",
       "3    abril        300         60         20        100         80         15   \n",
       "4     mayo        400         60         50        150         50         20   \n",
       "\n",
       "   ropa_benj  ocio_benj  \n",
       "0         10         80  \n",
       "1         15        150  \n",
       "2         10        120  \n",
       "3          5        130  \n",
       "4         15        150  "
      ]
     },
     "execution_count": 12,
     "metadata": {},
     "output_type": "execute_result"
    }
   ],
   "source": [
    "# uso de base de datos\n",
    "path = \"/home/luii/Documents/Modelacionysimulacion\"\n",
    "file = \"LAB2Python/gastos2021.csv\"\n",
    "data = pd.read_csv(path + \"/\" + file)\n",
    "data"
   ]
  },
  {
   "cell_type": "markdown",
   "id": "9e1c4750",
   "metadata": {},
   "source": [
    "## Función suma de tipo de gastos"
   ]
  },
  {
   "cell_type": "code",
   "execution_count": 13,
   "id": "553301d5",
   "metadata": {},
   "outputs": [],
   "source": [
    "# funcion para sumas gastos en un tipo de gasto (suma de columnas)\n",
    "\n",
    "def suma_gas(tipo):\n",
    "    suma = 0\n",
    "    for i in tipo:\n",
    "        suma += i\n",
    "    return suma"
   ]
  },
  {
   "cell_type": "markdown",
   "id": "e238601e",
   "metadata": {},
   "source": [
    "# N1. Tabla gastos de cada miembro"
   ]
  },
  {
   "cell_type": "code",
   "execution_count": 14,
   "id": "07b58b12",
   "metadata": {},
   "outputs": [
    {
     "data": {
      "text/html": [
       "<div>\n",
       "<style scoped>\n",
       "    .dataframe tbody tr th:only-of-type {\n",
       "        vertical-align: middle;\n",
       "    }\n",
       "\n",
       "    .dataframe tbody tr th {\n",
       "        vertical-align: top;\n",
       "    }\n",
       "\n",
       "    .dataframe thead th {\n",
       "        text-align: right;\n",
       "    }\n",
       "</style>\n",
       "<table border=\"1\" class=\"dataframe\">\n",
       "  <thead>\n",
       "    <tr style=\"text-align: right;\">\n",
       "      <th></th>\n",
       "      <th>meses</th>\n",
       "      <th>tran_luis</th>\n",
       "      <th>comi_luis</th>\n",
       "      <th>ropa_luis</th>\n",
       "      <th>ocio_luis</th>\n",
       "    </tr>\n",
       "  </thead>\n",
       "  <tbody>\n",
       "    <tr>\n",
       "      <th>0</th>\n",
       "      <td>enero</td>\n",
       "      <td>50</td>\n",
       "      <td>60</td>\n",
       "      <td>100</td>\n",
       "      <td>60</td>\n",
       "    </tr>\n",
       "    <tr>\n",
       "      <th>1</th>\n",
       "      <td>febrero</td>\n",
       "      <td>200</td>\n",
       "      <td>60</td>\n",
       "      <td>200</td>\n",
       "      <td>30</td>\n",
       "    </tr>\n",
       "    <tr>\n",
       "      <th>2</th>\n",
       "      <td>marzo</td>\n",
       "      <td>300</td>\n",
       "      <td>60</td>\n",
       "      <td>150</td>\n",
       "      <td>50</td>\n",
       "    </tr>\n",
       "    <tr>\n",
       "      <th>3</th>\n",
       "      <td>abril</td>\n",
       "      <td>300</td>\n",
       "      <td>60</td>\n",
       "      <td>20</td>\n",
       "      <td>100</td>\n",
       "    </tr>\n",
       "    <tr>\n",
       "      <th>4</th>\n",
       "      <td>mayo</td>\n",
       "      <td>400</td>\n",
       "      <td>60</td>\n",
       "      <td>50</td>\n",
       "      <td>150</td>\n",
       "    </tr>\n",
       "  </tbody>\n",
       "</table>\n",
       "</div>"
      ],
      "text/plain": [
       "     meses  tran_luis  comi_luis  ropa_luis  ocio_luis\n",
       "0    enero         50         60        100         60\n",
       "1  febrero        200         60        200         30\n",
       "2    marzo        300         60        150         50\n",
       "3    abril        300         60         20        100\n",
       "4     mayo        400         60         50        150"
      ]
     },
     "execution_count": 14,
     "metadata": {},
     "output_type": "execute_result"
    }
   ],
   "source": [
    "# Tabla gastos Luis\n",
    "\n",
    "subgastos = data.iloc[:, 0:1]\n",
    "gastosluis = data.loc[: , [\"tran_luis\", \"comi_luis\", \"ropa_luis\", \"ocio_luis\"]]\n",
    "datos1 = pd.concat([subgastos, gastosluis], axis=1)\n",
    "datos"
   ]
  },
  {
   "cell_type": "code",
   "execution_count": 15,
   "id": "9f57a125",
   "metadata": {},
   "outputs": [
    {
     "data": {
      "text/html": [
       "<div>\n",
       "<style scoped>\n",
       "    .dataframe tbody tr th:only-of-type {\n",
       "        vertical-align: middle;\n",
       "    }\n",
       "\n",
       "    .dataframe tbody tr th {\n",
       "        vertical-align: top;\n",
       "    }\n",
       "\n",
       "    .dataframe thead th {\n",
       "        text-align: right;\n",
       "    }\n",
       "</style>\n",
       "<table border=\"1\" class=\"dataframe\">\n",
       "  <thead>\n",
       "    <tr style=\"text-align: right;\">\n",
       "      <th></th>\n",
       "      <th>meses</th>\n",
       "      <th>tran_benj</th>\n",
       "      <th>comi_benj</th>\n",
       "      <th>ropa_benj</th>\n",
       "      <th>ocio_benj</th>\n",
       "    </tr>\n",
       "  </thead>\n",
       "  <tbody>\n",
       "    <tr>\n",
       "      <th>0</th>\n",
       "      <td>enero</td>\n",
       "      <td>50</td>\n",
       "      <td>20</td>\n",
       "      <td>10</td>\n",
       "      <td>80</td>\n",
       "    </tr>\n",
       "    <tr>\n",
       "      <th>1</th>\n",
       "      <td>febrero</td>\n",
       "      <td>60</td>\n",
       "      <td>30</td>\n",
       "      <td>15</td>\n",
       "      <td>150</td>\n",
       "    </tr>\n",
       "    <tr>\n",
       "      <th>2</th>\n",
       "      <td>marzo</td>\n",
       "      <td>70</td>\n",
       "      <td>20</td>\n",
       "      <td>10</td>\n",
       "      <td>120</td>\n",
       "    </tr>\n",
       "    <tr>\n",
       "      <th>3</th>\n",
       "      <td>abril</td>\n",
       "      <td>80</td>\n",
       "      <td>15</td>\n",
       "      <td>5</td>\n",
       "      <td>130</td>\n",
       "    </tr>\n",
       "    <tr>\n",
       "      <th>4</th>\n",
       "      <td>mayo</td>\n",
       "      <td>50</td>\n",
       "      <td>20</td>\n",
       "      <td>15</td>\n",
       "      <td>150</td>\n",
       "    </tr>\n",
       "  </tbody>\n",
       "</table>\n",
       "</div>"
      ],
      "text/plain": [
       "     meses  tran_benj  comi_benj  ropa_benj  ocio_benj\n",
       "0    enero         50         20         10         80\n",
       "1  febrero         60         30         15        150\n",
       "2    marzo         70         20         10        120\n",
       "3    abril         80         15          5        130\n",
       "4     mayo         50         20         15        150"
      ]
     },
     "execution_count": 15,
     "metadata": {},
     "output_type": "execute_result"
    }
   ],
   "source": [
    "# Tabla Gastos Benjamyn\n",
    "\n",
    "subgastos = data.iloc[:, 0:1]\n",
    "gastosbenj = data.loc[: , [\"tran_benj\", \"comi_benj\", \"ropa_benj\", \"ocio_benj\"]]\n",
    "datos2 = pd.concat([subgastos, gastosbenj], axis=1)\n",
    "datos2"
   ]
  },
  {
   "cell_type": "markdown",
   "id": "a5b25671",
   "metadata": {},
   "source": [
    "# N2. Tipo de gastos\n"
   ]
  },
  {
   "cell_type": "code",
   "execution_count": 16,
   "id": "d6d463cd",
   "metadata": {},
   "outputs": [
    {
     "name": "stdout",
     "output_type": "stream",
     "text": [
      "tipos de gastos =  ['tran_luis', 'comi_luis', 'ropa_luis', 'ocio_luis', 'tran_benj', 'comi_benj', 'ropa_benj', 'ocio_benj']\n"
     ]
    }
   ],
   "source": [
    "# tipos de gastos\n",
    "\n",
    "categoria = data.columns.values.tolist()\n",
    "del(categoria[0])\n",
    "print(\"tipos de gastos = \", categoria)"
   ]
  },
  {
   "cell_type": "markdown",
   "id": "4284b144",
   "metadata": {},
   "source": [
    "## Mayores gastos"
   ]
  },
  {
   "cell_type": "code",
   "execution_count": 17,
   "id": "85fdc7b4",
   "metadata": {},
   "outputs": [
    {
     "name": "stdout",
     "output_type": "stream",
     "text": [
      "3 tipos que más gastos tiene Luis:  [('transporte', 1250), ('ropa', 520), ('ocio', 390)]\n"
     ]
    }
   ],
   "source": [
    "# mayores gastos Luis\n",
    "\n",
    "# diccionario de los datos\n",
    "tot_luis = {'transporte':suma_gas(datos1[\"tran_luis\"]), 'comida':suma_gas(datos1[\"comi_luis\"]), 'ropa':suma_gas(datos1[\"ropa_luis\"]), 'ocio':suma_gas(datos1[\"ocio_luis\"])}\n",
    "        \n",
    "k = Counter(tot_luis)\n",
    "high = k.most_common(3)\n",
    "print(\"3 tipos que más gastos tiene Luis: \", high)"
   ]
  },
  {
   "cell_type": "code",
   "execution_count": 18,
   "id": "785bcf6f",
   "metadata": {},
   "outputs": [
    {
     "name": "stdout",
     "output_type": "stream",
     "text": [
      "3 tipos que más gastos tiene Benja:  [('ocio', 630), ('transporte', 310), ('comida', 105)]\n"
     ]
    }
   ],
   "source": [
    "# mayores gastos Benja\n",
    "\n",
    "# diccionario de los datos\n",
    "tot_benja = {'transporte':suma_gas(datos2[\"tran_benj\"]), 'comida':suma_gas(datos2[\"comi_benj\"]), 'ropa':suma_gas(datos2[\"ropa_benj\"]), 'ocio':suma_gas(datos2[\"ocio_benj\"])}\n",
    "        \n",
    "k = Counter(tot_benja)\n",
    "high = k.most_common(3)\n",
    "print(\"3 tipos que más gastos tiene Benja: \", high)"
   ]
  },
  {
   "cell_type": "markdown",
   "id": "206eb5bc",
   "metadata": {},
   "source": [
    "# N4. Gráfica de total de gastos 2021"
   ]
  },
  {
   "cell_type": "code",
   "execution_count": 20,
   "id": "71830d11",
   "metadata": {
    "scrolled": true
   },
   "outputs": [
    {
     "data": {
      "image/png": "[encoded data removed]",
      "text/plain": [
       "<Figure size 432x288 with 1 Axes>"
      ]
     },
     "metadata": {},
     "output_type": "display_data"
    }
   ],
   "source": [
    "# suma total de gastos Luis en el 2021\n",
    "suma_total_luis = suma_gas(datos1[\"tran_luis\"]) + suma_gas(datos1[\"comi_luis\"]) + suma_gas(datos1[\"ropa_luis\"]) + suma_gas(datos1[\"ocio_luis\"])\n",
    "# suma total de gastos Luis en el 2021\n",
    "suma_total_benja = suma_gas(datos2[\"tran_benj\"]) + suma_gas(datos2[\"comi_benj\"]) + suma_gas(datos2[\"ropa_benj\"]) + suma_gas(datos2[\"ocio_benj\"])\n",
    "\n",
    "# nombre\n",
    "nombre = ['Luis', 'Benjamyn']\n",
    "# gastos\n",
    "gastos = [suma_total_luis, suma_total_benja]\n",
    "# color\n",
    "color = ['r', 'b']\n",
    "\n",
    "# creacion del pie\n",
    "plt.pie(gastos, labels=nombre, colors=color, shadow=True, autopct=\"%1.2f%%\")\n",
    "plt.legend()\n",
    "plt.title(\"Comparativa de gastos 2021\")\n",
    "plt.show()"
   ]
  },
  {
   "cell_type": "markdown",
   "id": "87a9218a",
   "metadata": {},
   "source": [
    "## N3. Gastos por mes"
   ]
  },
  {
   "cell_type": "code",
   "execution_count": 53,
   "id": "65c8e412",
   "metadata": {},
   "outputs": [
    {
     "data": {
      "text/html": [
       "<div>\n",
       "<style scoped>\n",
       "    .dataframe tbody tr th:only-of-type {\n",
       "        vertical-align: middle;\n",
       "    }\n",
       "\n",
       "    .dataframe tbody tr th {\n",
       "        vertical-align: top;\n",
       "    }\n",
       "\n",
       "    .dataframe thead th {\n",
       "        text-align: right;\n",
       "    }\n",
       "</style>\n",
       "<table border=\"1\" class=\"dataframe\">\n",
       "  <thead>\n",
       "    <tr style=\"text-align: right;\">\n",
       "      <th></th>\n",
       "      <th>meses</th>\n",
       "      <th>tran_luis</th>\n",
       "      <th>comi_luis</th>\n",
       "      <th>ropa_luis</th>\n",
       "      <th>ocio_luis</th>\n",
       "      <th>Suma por mes</th>\n",
       "    </tr>\n",
       "  </thead>\n",
       "  <tbody>\n",
       "    <tr>\n",
       "      <th>0</th>\n",
       "      <td>enero</td>\n",
       "      <td>50</td>\n",
       "      <td>60</td>\n",
       "      <td>100</td>\n",
       "      <td>60</td>\n",
       "      <td>270</td>\n",
       "    </tr>\n",
       "    <tr>\n",
       "      <th>1</th>\n",
       "      <td>febrero</td>\n",
       "      <td>200</td>\n",
       "      <td>60</td>\n",
       "      <td>200</td>\n",
       "      <td>30</td>\n",
       "      <td>490</td>\n",
       "    </tr>\n",
       "    <tr>\n",
       "      <th>2</th>\n",
       "      <td>marzo</td>\n",
       "      <td>300</td>\n",
       "      <td>60</td>\n",
       "      <td>150</td>\n",
       "      <td>50</td>\n",
       "      <td>560</td>\n",
       "    </tr>\n",
       "    <tr>\n",
       "      <th>3</th>\n",
       "      <td>abril</td>\n",
       "      <td>300</td>\n",
       "      <td>60</td>\n",
       "      <td>20</td>\n",
       "      <td>100</td>\n",
       "      <td>480</td>\n",
       "    </tr>\n",
       "    <tr>\n",
       "      <th>4</th>\n",
       "      <td>mayo</td>\n",
       "      <td>400</td>\n",
       "      <td>60</td>\n",
       "      <td>50</td>\n",
       "      <td>150</td>\n",
       "      <td>660</td>\n",
       "    </tr>\n",
       "  </tbody>\n",
       "</table>\n",
       "</div>"
      ],
      "text/plain": [
       "     meses  tran_luis  comi_luis  ropa_luis  ocio_luis  Suma por mes\n",
       "0    enero         50         60        100         60           270\n",
       "1  febrero        200         60        200         30           490\n",
       "2    marzo        300         60        150         50           560\n",
       "3    abril        300         60         20        100           480\n",
       "4     mayo        400         60         50        150           660"
      ]
     },
     "execution_count": 53,
     "metadata": {},
     "output_type": "execute_result"
    }
   ],
   "source": [
    "# Gastos por mes de Luis\n",
    "mesLuis = datos1\n",
    "mesLuis[\"Suma por mes\"] = mesLuis[\"tran_luis\"] + mesLuis[\"comi_luis\"] + mesLuis[\"ropa_luis\"] + mesLuis[\"ocio_luis\"]\n",
    "mesLuis"
   ]
  },
  {
   "cell_type": "code",
   "execution_count": 55,
   "id": "1b26725a",
   "metadata": {},
   "outputs": [
    {
     "data": {
      "text/html": [
       "<div>\n",
       "<style scoped>\n",
       "    .dataframe tbody tr th:only-of-type {\n",
       "        vertical-align: middle;\n",
       "    }\n",
       "\n",
       "    .dataframe tbody tr th {\n",
       "        vertical-align: top;\n",
       "    }\n",
       "\n",
       "    .dataframe thead th {\n",
       "        text-align: right;\n",
       "    }\n",
       "</style>\n",
       "<table border=\"1\" class=\"dataframe\">\n",
       "  <thead>\n",
       "    <tr style=\"text-align: right;\">\n",
       "      <th></th>\n",
       "      <th>meses</th>\n",
       "      <th>tran_benj</th>\n",
       "      <th>comi_benj</th>\n",
       "      <th>ropa_benj</th>\n",
       "      <th>ocio_benj</th>\n",
       "      <th>Suma por mes</th>\n",
       "    </tr>\n",
       "  </thead>\n",
       "  <tbody>\n",
       "    <tr>\n",
       "      <th>0</th>\n",
       "      <td>enero</td>\n",
       "      <td>50</td>\n",
       "      <td>20</td>\n",
       "      <td>10</td>\n",
       "      <td>80</td>\n",
       "      <td>160</td>\n",
       "    </tr>\n",
       "    <tr>\n",
       "      <th>1</th>\n",
       "      <td>febrero</td>\n",
       "      <td>60</td>\n",
       "      <td>30</td>\n",
       "      <td>15</td>\n",
       "      <td>150</td>\n",
       "      <td>255</td>\n",
       "    </tr>\n",
       "    <tr>\n",
       "      <th>2</th>\n",
       "      <td>marzo</td>\n",
       "      <td>70</td>\n",
       "      <td>20</td>\n",
       "      <td>10</td>\n",
       "      <td>120</td>\n",
       "      <td>220</td>\n",
       "    </tr>\n",
       "    <tr>\n",
       "      <th>3</th>\n",
       "      <td>abril</td>\n",
       "      <td>80</td>\n",
       "      <td>15</td>\n",
       "      <td>5</td>\n",
       "      <td>130</td>\n",
       "      <td>230</td>\n",
       "    </tr>\n",
       "    <tr>\n",
       "      <th>4</th>\n",
       "      <td>mayo</td>\n",
       "      <td>50</td>\n",
       "      <td>20</td>\n",
       "      <td>15</td>\n",
       "      <td>150</td>\n",
       "      <td>235</td>\n",
       "    </tr>\n",
       "  </tbody>\n",
       "</table>\n",
       "</div>"
      ],
      "text/plain": [
       "     meses  tran_benj  comi_benj  ropa_benj  ocio_benj  Suma por mes\n",
       "0    enero         50         20         10         80           160\n",
       "1  febrero         60         30         15        150           255\n",
       "2    marzo         70         20         10        120           220\n",
       "3    abril         80         15          5        130           230\n",
       "4     mayo         50         20         15        150           235"
      ]
     },
     "execution_count": 55,
     "metadata": {},
     "output_type": "execute_result"
    }
   ],
   "source": [
    "# Gastos por mes de Benja\n",
    "mesBenj = datos2\n",
    "mesBenj[\"Suma por mes\"] = mesBenj[\"tran_benj\"] + mesBenj[\"comi_benj\"] + mesBenj[\"ropa_benj\"] + mesBenj[\"ocio_benj\"]\n",
    "mesBenj"
   ]
  }
 ],
 "metadata": {
  "kernelspec": {
   "display_name": "Python 3",
   "language": "python",
   "name": "python3"
  },
  "language_info": {
   "codemirror_mode": {
    "name": "ipython",
    "version": 3
   },
   "file_extension": ".py",
   "mimetype": "text/x-python",
   "name": "python",
   "nbconvert_exporter": "python",
   "pygments_lexer": "ipython3",
   "version": "3.9.3"
  }
 },
 "nbformat": 4,
 "nbformat_minor": 5
}
